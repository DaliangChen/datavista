{
 "cells": [
  {
   "cell_type": "code",
   "execution_count": 1,
   "id": "641aef84",
   "metadata": {},
   "outputs": [
    {
     "ename": "ApiKeyMissingError",
     "evalue": "API key not set: An API key is required when using the OpenAQ API",
     "output_type": "error",
     "traceback": [
      "\u001b[31m---------------------------------------------------------------------------\u001b[39m",
      "\u001b[31mApiKeyMissingError\u001b[39m                        Traceback (most recent call last)",
      "\u001b[36mCell\u001b[39m\u001b[36m \u001b[39m\u001b[32mIn[1]\u001b[39m\u001b[32m, line 5\u001b[39m\n\u001b[32m      2\u001b[39m \u001b[38;5;28;01mimport\u001b[39;00m\u001b[38;5;250m \u001b[39m\u001b[34;01mpandas\u001b[39;00m\u001b[38;5;250m \u001b[39m\u001b[38;5;28;01mas\u001b[39;00m\u001b[38;5;250m \u001b[39m\u001b[34;01mpd\u001b[39;00m\n\u001b[32m      4\u001b[39m \u001b[38;5;66;03m# 创建 OpenAQ 客户端实例\u001b[39;00m\n\u001b[32m----> \u001b[39m\u001b[32m5\u001b[39m api = \u001b[43mOpenAQ\u001b[49m\u001b[43m(\u001b[49m\u001b[43m)\u001b[49m\n\u001b[32m      7\u001b[39m \u001b[38;5;66;03m# 获取所有监测站（只获取前100个结果作为示例）\u001b[39;00m\n\u001b[32m      8\u001b[39m status, response = api.locations(limit=\u001b[32m100\u001b[39m, page=\u001b[32m1\u001b[39m)\n",
      "\u001b[36mFile \u001b[39m\u001b[32mc:\\Users\\MaiMaiOffice201\\Desktop\\code\\datavista\\venv\\Lib\\site-packages\\openaq\\_sync\\client.py:65\u001b[39m, in \u001b[36mOpenAQ.__init__\u001b[39m\u001b[34m(self, api_key, headers, base_url, _transport)\u001b[39m\n\u001b[32m     58\u001b[39m \u001b[38;5;28;01mdef\u001b[39;00m\u001b[38;5;250m \u001b[39m\u001b[34m__init__\u001b[39m(\n\u001b[32m     59\u001b[39m     \u001b[38;5;28mself\u001b[39m,\n\u001b[32m     60\u001b[39m     api_key: \u001b[38;5;28mstr\u001b[39m | \u001b[38;5;28;01mNone\u001b[39;00m = \u001b[38;5;28;01mNone\u001b[39;00m,\n\u001b[32m   (...)\u001b[39m\u001b[32m     63\u001b[39m     _transport: Transport = Transport(),\n\u001b[32m     64\u001b[39m ) -> \u001b[38;5;28;01mNone\u001b[39;00m:\n\u001b[32m---> \u001b[39m\u001b[32m65\u001b[39m     \u001b[38;5;28;43msuper\u001b[39;49m\u001b[43m(\u001b[49m\u001b[43m)\u001b[49m\u001b[43m.\u001b[49m\u001b[34;43m__init__\u001b[39;49m\u001b[43m(\u001b[49m\u001b[43m_transport\u001b[49m\u001b[43m,\u001b[49m\u001b[43m \u001b[49m\u001b[43mheaders\u001b[49m\u001b[43m,\u001b[49m\u001b[43m \u001b[49m\u001b[43mapi_key\u001b[49m\u001b[43m,\u001b[49m\u001b[43m \u001b[49m\u001b[43mbase_url\u001b[49m\u001b[43m)\u001b[49m\n\u001b[32m     67\u001b[39m     \u001b[38;5;28mself\u001b[39m.countries = Countries(\u001b[38;5;28mself\u001b[39m)\n\u001b[32m     68\u001b[39m     \u001b[38;5;28mself\u001b[39m.instruments = Instruments(\u001b[38;5;28mself\u001b[39m)\n",
      "\u001b[36mFile \u001b[39m\u001b[32mc:\\Users\\MaiMaiOffice201\\Desktop\\code\\datavista\\venv\\Lib\\site-packages\\openaq\\shared\\client.py:88\u001b[39m, in \u001b[36mBaseClient.__init__\u001b[39m\u001b[34m(self, transport, headers, api_key, base_url)\u001b[39m\n\u001b[32m     86\u001b[39m \u001b[38;5;28mself\u001b[39m._rate_limit_reset_datetime = datetime.min\n\u001b[32m     87\u001b[39m \u001b[38;5;28mself\u001b[39m._rate_limit_remaining = math.inf\n\u001b[32m---> \u001b[39m\u001b[32m88\u001b[39m \u001b[38;5;28;43mself\u001b[39;49m\u001b[43m.\u001b[49m\u001b[43m_check_api_key_url\u001b[49m\u001b[43m(\u001b[49m\u001b[43m)\u001b[49m\n",
      "\u001b[36mFile \u001b[39m\u001b[32mc:\\Users\\MaiMaiOffice201\\Desktop\\code\\datavista\\venv\\Lib\\site-packages\\openaq\\shared\\client.py:95\u001b[39m, in \u001b[36mBaseClient._check_api_key_url\u001b[39m\u001b[34m(self)\u001b[39m\n\u001b[32m     91\u001b[39m \u001b[38;5;28;01mif\u001b[39;00m \u001b[38;5;129;01mnot\u001b[39;00m \u001b[38;5;28mself\u001b[39m.api_key \u001b[38;5;129;01mand\u001b[39;00m \u001b[38;5;28mself\u001b[39m.base_url == DEFAULT_BASE_URL:\n\u001b[32m     92\u001b[39m     logger.error(\n\u001b[32m     93\u001b[39m         \u001b[33m\"\u001b[39m\u001b[33mAPI key not set: An API key is required when using the OpenAQ API\u001b[39m\u001b[33m\"\u001b[39m\n\u001b[32m     94\u001b[39m     )\n\u001b[32m---> \u001b[39m\u001b[32m95\u001b[39m     \u001b[38;5;28;01mraise\u001b[39;00m ApiKeyMissingError(\n\u001b[32m     96\u001b[39m         \u001b[33m\"\u001b[39m\u001b[33mAPI key not set: An API key is required when using the OpenAQ API\u001b[39m\u001b[33m\"\u001b[39m\n\u001b[32m     97\u001b[39m     )\n",
      "\u001b[31mApiKeyMissingError\u001b[39m: API key not set: An API key is required when using the OpenAQ API"
     ]
    }
   ],
   "source": [
    "from openaq import OpenAQ\n",
    "import pandas as pd\n",
    "\n",
    "# 创建 OpenAQ 客户端实例\n",
    "api = OpenAQ()\n",
    "\n",
    "# 获取所有监测站（只获取前100个结果作为示例）\n",
    "status, response = api.locations(limit=100, page=1)\n",
    "\n",
    "# 提取结果并转换为 DataFrame\n",
    "locations = response['results']\n",
    "df = pd.json_normalize(locations)\n",
    "\n",
    "\n",
    "# 保存为 CSV 文件\n",
    "df.to_csv('air_quality_stations.csv', index=False)\n",
    "\n",
    "print(\"文件已保存为 air_quality_stations.csv\")\n"
   ]
  }
 ],
 "metadata": {
  "kernelspec": {
   "display_name": "venv",
   "language": "python",
   "name": "python3"
  },
  "language_info": {
   "codemirror_mode": {
    "name": "ipython",
    "version": 3
   },
   "file_extension": ".py",
   "mimetype": "text/x-python",
   "name": "python",
   "nbconvert_exporter": "python",
   "pygments_lexer": "ipython3",
   "version": "3.13.5"
  }
 },
 "nbformat": 4,
 "nbformat_minor": 5
}
