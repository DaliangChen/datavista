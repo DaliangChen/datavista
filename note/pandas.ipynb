{
 "cells": [
  {
   "cell_type": "markdown",
   "id": "6d3d2875",
   "metadata": {},
   "source": [
    "## pivot()\n",
    "\n",
    "1. 注意事项：不能有重复项！\n",
    "\n"
   ]
  },
  {
   "cell_type": "code",
   "execution_count": null,
   "id": "9302be8a",
   "metadata": {},
   "outputs": [
    {
     "name": "stdout",
     "output_type": "stream",
     "text": [
      "      date      city  temperature\n",
      "0  2024-01   Beijing            5\n",
      "1  2024-01  Shanghai            8\n",
      "2  2024-02   Beijing            7\n",
      "3  2024-02  Shanghai           10\n"
     ]
    }
   ],
   "source": [
    "import pandas as pd\n",
    "\n",
    "df = pd.DataFrame(\n",
    "    {\n",
    "        \"date\": [\"2024-01\", \"2024-01\", \"2024-02\", \"2024-02\"],\n",
    "        \"city\": [\"Beijing\", \"Shanghai\", \"Beijing\", \"Shanghai\"],\n",
    "        \"temperature\": [5, 8, 7, 10],\n",
    "    }\n",
    ")\n",
    "print(df)"
   ]
  },
  {
   "cell_type": "code",
   "execution_count": 2,
   "id": "e3004dbb",
   "metadata": {},
   "outputs": [
    {
     "name": "stdout",
     "output_type": "stream",
     "text": [
      "city     Beijing  Shanghai\n",
      "date                      \n",
      "2024-01        5         8\n",
      "2024-02        7        10\n"
     ]
    }
   ],
   "source": [
    "\n",
    "df_pivot = df.pivot(index=\"date\", columns=\"city\", values=\"temperature\")\n",
    "print(df_pivot)\n"
   ]
  }
 ],
 "metadata": {
  "kernelspec": {
   "display_name": "venv",
   "language": "python",
   "name": "python3"
  },
  "language_info": {
   "codemirror_mode": {
    "name": "ipython",
    "version": 3
   },
   "file_extension": ".py",
   "mimetype": "text/x-python",
   "name": "python",
   "nbconvert_exporter": "python",
   "pygments_lexer": "ipython3",
   "version": "3.13.5"
  }
 },
 "nbformat": 4,
 "nbformat_minor": 5
}
