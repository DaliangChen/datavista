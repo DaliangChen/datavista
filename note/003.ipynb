{
 "cells": [
  {
   "cell_type": "markdown",
   "id": "4a81c88c",
   "metadata": {},
   "source": [
    "> `scipy.stats.spearmanr`\n",
    "\n",
    "它计算的是：\n",
    "\n",
    "> **斯皮尔曼等级相关系数（Spearman rank correlation coefficient）**\n"
   ]
  },
  {
   "cell_type": "markdown",
   "id": "5b4b7460",
   "metadata": {},
   "source": [
    "**🧠 一、什么是 Spearman 相关系数？**\n",
    "\n",
    "Spearman 相关系数（记作 $\\rho$）用来衡量两个变量的**单调关系（monotonic relationship）**，也就是说：\n",
    "\n",
    "> 如果一个变量增加，另一个变量也总是增加或总是减少，不要求是线性关系。\n",
    "\n",
    "**📐 二、公式（简单版理解）**\n",
    "\n",
    "它的计算基于**变量排名**而非原始数值：\n",
    "\n",
    "$$\n",
    "\\rho = 1 - \\frac{6 \\sum d_i^2}{n(n^2 - 1)}\n",
    "$$\n",
    "\n",
    "其中：\n",
    "\n",
    "- $d_i$ 是第 $i$ 个样本在两个变量中的排名差\n",
    "- $n$ 是样本数量\n",
    "\n",
    "如果两个变量的排名完全一致，则 $\\rho = 1$；如果完全反向，$\\rho = -1$。\n"
   ]
  },
  {
   "cell_type": "code",
   "execution_count": 1,
   "id": "1f2545b2",
   "metadata": {},
   "outputs": [
    {
     "name": "stdout",
     "output_type": "stream",
     "text": [
      "Spearman 相关系数: 1.00\n",
      "p 值: 0.0000\n"
     ]
    }
   ],
   "source": [
    "from scipy.stats import spearmanr\n",
    "\n",
    "x = [10, 20, 30, 40, 50]\n",
    "y = [1, 2, 3, 4, 5]\n",
    "\n",
    "corr, pval = spearmanr(x, y)\n",
    "\n",
    "print(f\"Spearman 相关系数: {corr:.2f}\")\n",
    "print(f\"p 值: {pval:.4f}\")"
   ]
  },
  {
   "cell_type": "markdown",
   "id": "0354241e",
   "metadata": {},
   "source": [
    "**输出：**\n",
    "\n",
    "- **相关系数 = 1.00**：说明两个变量排名完全一致\n",
    "- **p 值越小越显著**：说明相关性不是偶然出现的（可解释为相关性显著）\n"
   ]
  },
  {
   "cell_type": "markdown",
   "id": "b2937260",
   "metadata": {},
   "source": [
    "**🧩 四、Spearman vs Pearson**\n",
    "\n",
    "| 对比项         | Spearman（`spearmanr`）      | Pearson（`pearsonr`）    |\n",
    "| -------------- | ---------------------------- | ------------------------ |\n",
    "| 衡量关系类型   | 单调关系（不一定线性）       | 线性关系（直线趋势）     |\n",
    "| 对异常值敏感性 | 抗干扰能力强，对异常值不敏感 | 非常敏感                 |\n",
    "| 计算依据       | 基于排序（rank）             | 基于原始数值（mean/std） |\n"
   ]
  },
  {
   "cell_type": "markdown",
   "id": "efe5115e",
   "metadata": {},
   "source": [
    "**✅ 五、适用场景**\n",
    "\n",
    "- 数据不是线性关系（如：分数 vs 名次）\n",
    "- 数据中含有异常值\n",
    "- 你只关心变量是否“随着另一个上升/下降”，不关心上升速度\n"
   ]
  }
 ],
 "metadata": {
  "kernelspec": {
   "display_name": "venv",
   "language": "python",
   "name": "python3"
  },
  "language_info": {
   "codemirror_mode": {
    "name": "ipython",
    "version": 3
   },
   "file_extension": ".py",
   "mimetype": "text/x-python",
   "name": "python",
   "nbconvert_exporter": "python",
   "pygments_lexer": "ipython3",
   "version": "3.13.5"
  }
 },
 "nbformat": 4,
 "nbformat_minor": 5
}
