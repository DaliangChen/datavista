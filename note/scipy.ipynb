{
 "cells": [
  {
   "cell_type": "markdown",
   "id": "eb4a7da5",
   "metadata": {},
   "source": [
    "<link href=\"../style.css\" rel=\"stylesheet\">\n",
    "\n",
    "## scipy.stats.rankdata\n",
    "\n",
    "对一个 **数值序列进行排名** 的函数，返回的是**每个元素的排名**（默认从 1 开始）。\n",
    "\n",
    "```python\n",
    "from scipy.stats import rankdata\n",
    "\n",
    "x = [30, 10, 20]\n",
    "ranks = rankdata(x)\n",
    "print(ranks)\n",
    "```\n",
    "\n",
    "**输出：**\n",
    "\n",
    "```\n",
    "[3. 1. 2.]\n",
    "```\n",
    "\n",
    "🔍 意思是：\n",
    "\n",
    "- 原列表中 30 是最大值 → 排名 3\n",
    "- 10 是最小值 → 排名 1\n",
    "- 20 是中间值 → 排名 2\n",
    "\n",
    "**函数签名：**\n",
    "\n",
    "```python\n",
    "scipy.stats.rankdata(a, method='average', axis=0)\n",
    "```\n",
    "\n",
    "**常用参数说明：**\n",
    "\n",
    "| 参数     | 说明                                 |\n",
    "| -------- | ------------------------------------ |\n",
    "| `a`      | 要排名的序列（list、array、Series）  |\n",
    "| `method` | 冲突排名的处理方式（见下表）         |\n",
    "| `axis`   | 多维数组时沿哪个轴排名（一般不需要） |\n",
    "\n",
    "假设输入是 `[10, 20, 20, 30]`，20 出现两次：\n",
    "\n",
    "| method      | 排名结果          | 说明                       |\n",
    "| ----------- | ----------------- | -------------------------- |\n",
    "| `'average'` | [1, 2.5, 2.5, 4] | 默认，平均名次             |\n",
    "| `'min'`     | [1, 2, 2, 4]     | 同值取最小名次             |\n",
    "| `'max'`     | [1, 3, 3, 4]     | 同值取最大名次             |\n",
    "| `'dense'`   | [1, 2, 2, 3]     | 连续排名，不跳过           |\n",
    "| `'ordinal'` | [1, 2, 3, 4]     | 按出现顺序，强行不管重复值 |\n"
   ]
  }
 ],
 "metadata": {
  "kernelspec": {
   "display_name": "venv",
   "language": "python",
   "name": "python3"
  },
  "language_info": {
   "codemirror_mode": {
    "name": "ipython",
    "version": 3
   },
   "file_extension": ".py",
   "mimetype": "text/x-python",
   "name": "python",
   "nbconvert_exporter": "python",
   "pygments_lexer": "ipython3",
   "version": "3.13.5"
  }
 },
 "nbformat": 4,
 "nbformat_minor": 5
}
